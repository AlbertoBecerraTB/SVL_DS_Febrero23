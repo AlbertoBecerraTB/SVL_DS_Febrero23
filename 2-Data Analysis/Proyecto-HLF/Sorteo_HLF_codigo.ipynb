{
 "cells": [
  {
   "cell_type": "code",
   "execution_count": 14,
   "metadata": {},
   "outputs": [],
   "source": [
    "import numpy as np\n",
    "from time import sleep"
   ]
  },
  {
   "cell_type": "code",
   "execution_count": 16,
   "metadata": {},
   "outputs": [
    {
     "name": "stdout",
     "output_type": "stream",
     "text": [
      "Grupo 1:  ['Alba' 'Dustin' 'Ignacio']\n",
      "Grupo 2:  ['Guillermo' 'Mattheus' 'Jose']\n",
      "Grupo 3:  ['Miguel' 'Ismael' 'Antonio']\n"
     ]
    }
   ],
   "source": [
    "ls_clase = [\"Ignacio\", \"Guillermo\", \"Dustin\", \"Alba\", \"Miguel\", \n",
    "            \"Antonio\", \"Ismael\", \"Jose\", \"Mattheus\"]\n",
    "\n",
    "ls_clase = np.random.permutation(ls_clase)\n",
    "\n",
    "ls_idx = [i for i in range(1, 10) if i % 3 == 0]\n",
    "\n",
    "grupos = np.hsplit(ls_clase, ls_idx)[:-1]\n",
    "\n",
    "for i, grupo in enumerate(grupos):\n",
    "    print(f\"Grupo {i+1}: \", grupo)\n",
    "    sleep(3)\n"
   ]
  }
 ],
 "metadata": {
  "kernelspec": {
   "display_name": "Python 3",
   "language": "python",
   "name": "python3"
  },
  "language_info": {
   "codemirror_mode": {
    "name": "ipython",
    "version": 3
   },
   "file_extension": ".py",
   "mimetype": "text/x-python",
   "name": "python",
   "nbconvert_exporter": "python",
   "pygments_lexer": "ipython3",
   "version": "3.10.8"
  },
  "orig_nbformat": 4
 },
 "nbformat": 4,
 "nbformat_minor": 2
}
